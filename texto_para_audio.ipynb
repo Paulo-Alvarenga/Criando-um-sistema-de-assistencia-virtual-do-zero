{
  "nbformat": 4,
  "nbformat_minor": 0,
  "metadata": {
    "colab": {
      "provenance": [],
      "authorship_tag": "ABX9TyNTQzIISlt7YL8FLZsu8HQo",
      "include_colab_link": true
    },
    "kernelspec": {
      "name": "python3",
      "display_name": "Python 3"
    },
    "language_info": {
      "name": "python"
    }
  },
  "cells": [
    {
      "cell_type": "markdown",
      "metadata": {
        "id": "view-in-github",
        "colab_type": "text"
      },
      "source": [
        "<a href=\"https://colab.research.google.com/github/Paulo-Alvarenga/Criando-um-sistema-de-assistencia-virtual-do-zero/blob/main/texto_para_audio.ipynb\" target=\"_parent\"><img src=\"https://colab.research.google.com/assets/colab-badge.svg\" alt=\"Open In Colab\"/></a>"
      ]
    },
    {
      "cell_type": "code",
      "execution_count": null,
      "metadata": {
        "id": "qmev6yMoNI1O"
      },
      "outputs": [],
      "source": [
        "!pip install gTTS googletrans"
      ]
    },
    {
      "cell_type": "code",
      "source": [
        "from gtts import gTTS\n",
        "from googletrans import Translator\n",
        "from IPython.display import Audio, display"
      ],
      "metadata": {
        "id": "qLYfjz_PNP1w"
      },
      "execution_count": null,
      "outputs": []
    },
    {
      "cell_type": "markdown",
      "source": [
        "**Converte o texto digitado em áudio na linguagem específica.**"
      ],
      "metadata": {
        "id": "-3jSGWZYNSnr"
      }
    },
    {
      "cell_type": "code",
      "source": [
        "def text_to_speech(text, lang):\n",
        "    try:\n",
        "        tts = gTTS(text=text, lang=lang)\n",
        "        tts.save(\"output.mp3\")\n",
        "        display(Audio(\"output.mp3\", autoplay=True))\n",
        "        print(f\"Áudio reproduzido com sucesso na língua {lang} .\")\n",
        "    except Exception as e:\n",
        "        print(f\"Ocorreu um erro: {e}\")\n",
        "\n",
        "def translate_text(text, target_lang):\n",
        "    try:\n",
        "        translator = Translator()\n",
        "        translated = translator.translate(text, dest=target_lang)\n",
        "        return translated.text\n",
        "    except Exception as e:\n",
        "        print(f\"Ocorreu um erro durante a tradução: {e}\")\n",
        "        return text"
      ],
      "metadata": {
        "id": "5KjiDJFbNXxN"
      },
      "execution_count": null,
      "outputs": []
    },
    {
      "cell_type": "markdown",
      "source": [
        "**Seleciona o texto digitado e converte para o Chinês**"
      ],
      "metadata": {
        "id": "V7SmO9RWNYws"
      }
    },
    {
      "cell_type": "code",
      "source": [
        "text = input(\"Digite o texto que você deseja tranformar em áudio: \")\n",
        "\n",
        "translated_text = translate_text(text, target_lang='zh-CN')\n",
        "text_to_speech(translated_text, lang='zh-CN')"
      ],
      "metadata": {
        "id": "0cXxdt-mNb0k"
      },
      "execution_count": null,
      "outputs": []
    },
    {
      "cell_type": "markdown",
      "source": [
        "**Seleciona o texto digitado e converte para o Inglês**"
      ],
      "metadata": {
        "id": "E6-l4zeCNdVD"
      }
    },
    {
      "cell_type": "code",
      "source": [
        "text = input(\"Digite o texto que você deseja tranformar em áudio: \")\n",
        "\n",
        "translated_text = translate_text(text, target_lang='en')\n",
        "text_to_speech(translated_text, lang='en')"
      ],
      "metadata": {
        "id": "7Kso6UdTNiZk"
      },
      "execution_count": null,
      "outputs": []
    },
    {
      "cell_type": "markdown",
      "source": [
        "**Seleciona o texto digitado e converte para o Espanhol**"
      ],
      "metadata": {
        "id": "o4jP3Ge2Ngsp"
      }
    },
    {
      "cell_type": "code",
      "source": [
        "text = input(\"Digite o texto que você deseja tranformar em áudio: \")\n",
        "\n",
        "translated_text = translate_text(text, target_lang='es')\n",
        "text_to_speech(translated_text, lang='es')"
      ],
      "metadata": {
        "id": "WjCJpyY_Ni4w"
      },
      "execution_count": null,
      "outputs": []
    }
  ]
}